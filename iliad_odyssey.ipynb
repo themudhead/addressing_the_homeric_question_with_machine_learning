{
 "cells": [
  {
   "cell_type": "code",
   "execution_count": 1,
   "id": "0aa6ec86-a2d7-43b3-8326-765f14db121e",
   "metadata": {},
   "outputs": [],
   "source": [
    "import itertools\n",
    "import numpy as np\n",
    "import pandas as pd\n",
    "import matplotlib.pyplot as plt\n",
    "\n",
    "from sklearn.utils import shuffle\n",
    "from sklearn.metrics import accuracy_score\n",
    "from sklearn.model_selection import train_test_split\n",
    "from sklearn.feature_extraction.text import TfidfVectorizer, CountVectorizer\n",
    "from sklearn import ensemble, linear_model, metrics, model_selection, naive_bayes, svm\n",
    "from sklearn.metrics import confusion_matrix, classification_report, accuracy_score"
   ]
  },
  {
   "cell_type": "code",
   "execution_count": 2,
   "id": "7dee4dac-b7b1-457b-8cea-da7bb1be26f5",
   "metadata": {},
   "outputs": [],
   "source": [
    "def plot_confusion_matrix(cm, classes,\n",
    "                          title='Confusion matrix',\n",
    "                          cmap=plt.cm.Blues):\n",
    "    \"\"\"\n",
    "    This function prints and plots the confusion matrix.\n",
    "    Normalization can be applied by setting `normalize=True`.\n",
    "    \"\"\"\n",
    "\n",
    "    cm = cm.astype('float') / cm.sum(axis=1)[:, np.newaxis]\n",
    "\n",
    "    plt.imshow(cm, interpolation='nearest', cmap=cmap)\n",
    "    plt.title(title, fontsize=20)\n",
    "    plt.colorbar()\n",
    "    tick_marks = np.arange(len(classes))\n",
    "    plt.xticks(tick_marks, classes, fontsize=13)\n",
    "    plt.yticks(tick_marks, classes, fontsize=13)\n",
    "\n",
    "    fmt = '.2f'\n",
    "    thresh = cm.max() / 2.\n",
    "    for i, j in itertools.product(range(cm.shape[0]), range(cm.shape[1])):\n",
    "        plt.text(j, i, format(cm[i, j], fmt),\n",
    "                 horizontalalignment=\"center\",\n",
    "                 color=\"white\" if cm[i, j] > thresh else \"black\")\n",
    "\n",
    "    plt.ylabel('True label', fontsize=17)\n",
    "    plt.xlabel('Predicted label', fontsize=17)"
   ]
  },
  {
   "cell_type": "code",
   "execution_count": 3,
   "id": "74e5133e-9b72-47ed-8820-5d2c22dbb1fc",
   "metadata": {},
   "outputs": [
    {
     "name": "stdout",
     "output_type": "stream",
     "text": [
      "<class 'pandas.core.frame.DataFrame'>\n",
      "RangeIndex: 15138 entries, 0 to 15137\n",
      "Data columns (total 2 columns):\n",
      " #   Column  Non-Null Count  Dtype \n",
      "---  ------  --------------  ----- \n",
      " 0   pos     15138 non-null  object\n",
      " 1   label   15138 non-null  object\n",
      "dtypes: object(2)\n",
      "memory usage: 236.7+ KB\n"
     ]
    }
   ],
   "source": [
    "df1 = pd.read_csv('data/iliad.csv')\n",
    "df2 =  pd.read_csv('data/odyssey.csv')\n",
    "df = df1.append(df2, ignore_index=True)\n",
    "df.info()"
   ]
  },
  {
   "cell_type": "code",
   "execution_count": 4,
   "id": "a6dc0532-7a1a-4fdc-b136-5ed8b4181469",
   "metadata": {},
   "outputs": [
    {
     "data": {
      "text/html": [
       "<div>\n",
       "<style scoped>\n",
       "    .dataframe tbody tr th:only-of-type {\n",
       "        vertical-align: middle;\n",
       "    }\n",
       "\n",
       "    .dataframe tbody tr th {\n",
       "        vertical-align: top;\n",
       "    }\n",
       "\n",
       "    .dataframe thead th {\n",
       "        text-align: right;\n",
       "    }\n",
       "</style>\n",
       "<table border=\"1\" class=\"dataframe\">\n",
       "  <thead>\n",
       "    <tr style=\"text-align: right;\">\n",
       "      <th></th>\n",
       "      <th>pos</th>\n",
       "      <th>label</th>\n",
       "    </tr>\n",
       "  </thead>\n",
       "  <tbody>\n",
       "    <tr>\n",
       "      <th>0</th>\n",
       "      <td>n-s---fa- v2spma--- n-s---fv- n-s---mg- n-s---...</td>\n",
       "      <td>i</td>\n",
       "    </tr>\n",
       "    <tr>\n",
       "      <th>1</th>\n",
       "      <td>x-------- g-------- g-------- p-d---ma- n-p---...</td>\n",
       "      <td>i</td>\n",
       "    </tr>\n",
       "    <tr>\n",
       "      <th>2</th>\n",
       "      <td>n-s---fg- c-------- n-s---mg- n-s---mn- u--------</td>\n",
       "      <td>i</td>\n",
       "    </tr>\n",
       "    <tr>\n",
       "      <th>3</th>\n",
       "      <td>p-s---mn- g-------- n-s---md- v-sappmn- n-s---...</td>\n",
       "      <td>i</td>\n",
       "    </tr>\n",
       "    <tr>\n",
       "      <th>4</th>\n",
       "      <td>p-s---mn- g-------- v3saia--- a-p---fa- r-----...</td>\n",
       "      <td>i</td>\n",
       "    </tr>\n",
       "  </tbody>\n",
       "</table>\n",
       "</div>"
      ],
      "text/plain": [
       "                                                 pos label\n",
       "0  n-s---fa- v2spma--- n-s---fv- n-s---mg- n-s---...     i\n",
       "1  x-------- g-------- g-------- p-d---ma- n-p---...     i\n",
       "2  n-s---fg- c-------- n-s---mg- n-s---mn- u--------     i\n",
       "3  p-s---mn- g-------- n-s---md- v-sappmn- n-s---...     i\n",
       "4  p-s---mn- g-------- v3saia--- a-p---fa- r-----...     i"
      ]
     },
     "execution_count": 4,
     "metadata": {},
     "output_type": "execute_result"
    }
   ],
   "source": [
    "df.head()"
   ]
  },
  {
   "cell_type": "code",
   "execution_count": 5,
   "id": "ca04a9ea-9321-415d-900f-ee8284cf348c",
   "metadata": {},
   "outputs": [
    {
     "name": "stdout",
     "output_type": "stream",
     "text": [
      "i    8415\n",
      "o    6723\n",
      "Name: label, dtype: int64\n",
      "i    6732\n",
      "o    6723\n",
      "Name: label, dtype: int64\n"
     ]
    },
    {
     "data": {
      "text/html": [
       "<div>\n",
       "<style scoped>\n",
       "    .dataframe tbody tr th:only-of-type {\n",
       "        vertical-align: middle;\n",
       "    }\n",
       "\n",
       "    .dataframe tbody tr th {\n",
       "        vertical-align: top;\n",
       "    }\n",
       "\n",
       "    .dataframe thead th {\n",
       "        text-align: right;\n",
       "    }\n",
       "</style>\n",
       "<table border=\"1\" class=\"dataframe\">\n",
       "  <thead>\n",
       "    <tr style=\"text-align: right;\">\n",
       "      <th></th>\n",
       "      <th>pos</th>\n",
       "      <th>label</th>\n",
       "    </tr>\n",
       "  </thead>\n",
       "  <tbody>\n",
       "    <tr>\n",
       "      <th>8595</th>\n",
       "      <td>a-s---md- g-------- d-------- n-s---fn- n-p---...</td>\n",
       "      <td>o</td>\n",
       "    </tr>\n",
       "    <tr>\n",
       "      <th>2230</th>\n",
       "      <td>p-s---fa- g-------- p-s---mn- g-------- r-----...</td>\n",
       "      <td>i</td>\n",
       "    </tr>\n",
       "    <tr>\n",
       "      <th>10302</th>\n",
       "      <td>n-s---fn- d-------- a-s---mn- n-s---mn- u--------</td>\n",
       "      <td>o</td>\n",
       "    </tr>\n",
       "    <tr>\n",
       "      <th>2761</th>\n",
       "      <td>n-s---md- g-------- g-------- n-s---nn- v3saim...</td>\n",
       "      <td>i</td>\n",
       "    </tr>\n",
       "    <tr>\n",
       "      <th>11644</th>\n",
       "      <td>p-s---fa- g-------- v-sppemn- v3siia--- n-s---...</td>\n",
       "      <td>o</td>\n",
       "    </tr>\n",
       "  </tbody>\n",
       "</table>\n",
       "</div>"
      ],
      "text/plain": [
       "                                                     pos label\n",
       "8595   a-s---md- g-------- d-------- n-s---fn- n-p---...     o\n",
       "2230   p-s---fa- g-------- p-s---mn- g-------- r-----...     i\n",
       "10302  n-s---fn- d-------- a-s---mn- n-s---mn- u--------     o\n",
       "2761   n-s---md- g-------- g-------- n-s---nn- v3saim...     i\n",
       "11644  p-s---fa- g-------- v-sppemn- v3siia--- n-s---...     o"
      ]
     },
     "execution_count": 5,
     "metadata": {},
     "output_type": "execute_result"
    }
   ],
   "source": [
    "print(df.label.value_counts())\n",
    "df = df.drop(df.query(\"label == 'i'\").sample(frac=.20).index)\n",
    "print(df.label.value_counts())\n",
    "\n",
    "df_ordered = df.copy(deep=True)\n",
    "df = shuffle(df, random_state=750)\n",
    "\n",
    "pos = df.pos.tolist()\n",
    "pos_ordered = df_ordered.pos.tolist()\n",
    "labels = df.label.tolist()\n",
    "\n",
    "y = labels\n",
    "\n",
    "df.head()"
   ]
  },
  {
   "cell_type": "code",
   "execution_count": 6,
   "id": "33c5335e-c67d-4501-b973-e67d855314b0",
   "metadata": {},
   "outputs": [],
   "source": [
    "vectorizer = TfidfVectorizer(ngram_range=(0, 9), analyzer='char')\n",
    "posv = vectorizer.fit_transform(pos)\n",
    "posv = posv.toarray()\n",
    "x = posv"
   ]
  },
  {
   "cell_type": "code",
   "execution_count": 7,
   "id": "48407a18-3811-4e9d-8915-920f8aa2f72d",
   "metadata": {},
   "outputs": [],
   "source": [
    "vectorizer = TfidfVectorizer(ngram_range=(0, 9), analyzer='char')\n",
    "posv = vectorizer.fit_transform(pos_ordered)\n",
    "posv = posv.toarray()\n",
    "x_ordered = posv"
   ]
  },
  {
   "cell_type": "code",
   "execution_count": 8,
   "id": "14cbd41b-f707-4cfd-9726-66f2a95f5858",
   "metadata": {},
   "outputs": [],
   "source": [
    "x_train, x_test, y_train, y_test = train_test_split(x, y, test_size=0.2, random_state=750)"
   ]
  },
  {
   "cell_type": "code",
   "execution_count": 9,
   "id": "00bca820-4869-42c7-9b23-776c3c99bae9",
   "metadata": {},
   "outputs": [
    {
     "name": "stdout",
     "output_type": "stream",
     "text": [
      "Accuracy: 0.715\n"
     ]
    }
   ],
   "source": [
    "model = ensemble.RandomForestClassifier(n_estimators=500, random_state=750, n_jobs=-1)\n",
    "model.fit(x_train, y_train)\n",
    "y_pred = model.predict(x_test)\n",
    "print('Accuracy: %.3f' % accuracy_score(y_test, y_pred))"
   ]
  },
  {
   "cell_type": "code",
   "execution_count": 10,
   "id": "965c1b4e-5d8b-4677-8d9c-bed083a483b9",
   "metadata": {},
   "outputs": [
    {
     "data": {
      "image/png": "[encoded data removed]",
      "text/plain": [
       "<Figure size 432x432 with 2 Axes>"
      ]
     },
     "metadata": {
      "needs_background": "light"
     },
     "output_type": "display_data"
    }
   ],
   "source": [
    "cnf_matrix = confusion_matrix(y_test, y_pred)\n",
    "plt.figure(figsize=(6,6))\n",
    "plot_confusion_matrix(cnf_matrix, classes=df.label.unique(), title=\"Iliad Odyssey CM\")\n",
    "plt.show()"
   ]
  },
  {
   "cell_type": "code",
   "execution_count": 11,
   "id": "9b1df4a8-16fc-470f-889a-d1e578deb63e",
   "metadata": {},
   "outputs": [],
   "source": [
    "preds = model.predict(x_ordered)"
   ]
  },
  {
   "cell_type": "code",
   "execution_count": 12,
   "id": "be36446f-421f-47f5-a3ee-09c2ac0f39df",
   "metadata": {},
   "outputs": [
    {
     "data": {
      "image/png": "[encoded data removed]",
      "text/plain": [
       "<Figure size 432x288 with 1 Axes>"
      ]
     },
     "metadata": {
      "needs_background": "light"
     },
     "output_type": "display_data"
    }
   ],
   "source": [
    "iliad = []\n",
    "odyssey = []\n",
    "for i, author in enumerate(preds):\n",
    "    if author == 'i':\n",
    "        iliad.append(i)\n",
    "    else:\n",
    "        odyssey.append(i)\n",
    "\n",
    "plt.hist(\n",
    "    [iliad, odyssey], \n",
    "    bins=50,\n",
    "    color=['Blue', 'Orange'], \n",
    "    label=['Iliad', 'Odyssey'],\n",
    ")\n",
    "plt.ylim(0, 40)\n",
    "plt.xlabel('Index')\n",
    "plt.legend()\n",
    "plt.tight_layout()\n",
    "plt.show()"
   ]
  },
  {
   "cell_type": "code",
   "execution_count": null,
   "id": "73b9f6b9-88d4-4d2a-a639-81564bcdacd8",
   "metadata": {},
   "outputs": [],
   "source": []
  }
 ],
 "metadata": {
  "kernelspec": {
   "display_name": "Python 3",
   "language": "python",
   "name": "python3"
  },
  "language_info": {
   "codemirror_mode": {
    "name": "ipython",
    "version": 3
   },
   "file_extension": ".py",
   "mimetype": "text/x-python",
   "name": "python",
   "nbconvert_exporter": "python",
   "pygments_lexer": "ipython3",
   "version": "3.8.10"
  }
 },
 "nbformat": 4,
 "nbformat_minor": 5
}

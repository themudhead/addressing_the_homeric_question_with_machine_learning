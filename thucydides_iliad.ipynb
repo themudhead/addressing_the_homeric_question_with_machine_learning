{
 "cells": [
  {
   "cell_type": "code",
   "execution_count": 1,
   "id": "0aa6ec86-a2d7-43b3-8326-765f14db121e",
   "metadata": {},
   "outputs": [],
   "source": [
    "import itertools\n",
    "import numpy as np\n",
    "import pandas as pd\n",
    "import matplotlib.pyplot as plt\n",
    "\n",
    "from sklearn.utils import shuffle\n",
    "from sklearn.metrics import accuracy_score\n",
    "from sklearn.model_selection import train_test_split\n",
    "from sklearn.feature_extraction.text import TfidfVectorizer, CountVectorizer\n",
    "from sklearn import ensemble, linear_model, metrics, model_selection, naive_bayes, svm\n",
    "from sklearn.metrics import confusion_matrix, classification_report, accuracy_score"
   ]
  },
  {
   "cell_type": "code",
   "execution_count": 2,
   "id": "7dee4dac-b7b1-457b-8cea-da7bb1be26f5",
   "metadata": {},
   "outputs": [],
   "source": [
    "def plot_confusion_matrix(cm, classes,\n",
    "                          title='Confusion matrix',\n",
    "                          cmap=plt.cm.Blues):\n",
    "    \"\"\"\n",
    "    This function prints and plots the confusion matrix.\n",
    "    Normalization can be applied by setting `normalize=True`.\n",
    "    \"\"\"\n",
    "\n",
    "    cm = cm.astype('float') / cm.sum(axis=1)[:, np.newaxis]\n",
    "\n",
    "    plt.imshow(cm, interpolation='nearest', cmap=cmap)\n",
    "    plt.title(title, fontsize=20)\n",
    "    plt.colorbar()\n",
    "    tick_marks = np.arange(len(classes))\n",
    "    plt.xticks(tick_marks, classes, fontsize=13)\n",
    "    plt.yticks(tick_marks, classes, fontsize=13)\n",
    "\n",
    "    fmt = '.2f'\n",
    "    thresh = cm.max() / 2.\n",
    "    for i, j in itertools.product(range(cm.shape[0]), range(cm.shape[1])):\n",
    "        plt.text(j, i, format(cm[i, j], fmt),\n",
    "                 horizontalalignment=\"center\",\n",
    "                 color=\"white\" if cm[i, j] > thresh else \"black\")\n",
    "\n",
    "    plt.ylabel('True label', fontsize=17)\n",
    "    plt.xlabel('Predicted label', fontsize=17)"
   ]
  },
  {
   "cell_type": "code",
   "execution_count": 3,
   "id": "74e5133e-9b72-47ed-8820-5d2c22dbb1fc",
   "metadata": {},
   "outputs": [
    {
     "name": "stdout",
     "output_type": "stream",
     "text": [
      "<class 'pandas.core.frame.DataFrame'>\n",
      "RangeIndex: 9357 entries, 0 to 9356\n",
      "Data columns (total 2 columns):\n",
      " #   Column  Non-Null Count  Dtype \n",
      "---  ------  --------------  ----- \n",
      " 0   pos     9357 non-null   object\n",
      " 1   label   9357 non-null   object\n",
      "dtypes: object(2)\n",
      "memory usage: 146.3+ KB\n"
     ]
    }
   ],
   "source": [
    "df1 = pd.read_csv('data/thucydides.csv')\n",
    "df2 =  pd.read_csv('data/iliad.csv')\n",
    "df = df1.append(df2, ignore_index=True)\n",
    "df.info()"
   ]
  },
  {
   "cell_type": "code",
   "execution_count": 4,
   "id": "a6dc0532-7a1a-4fdc-b136-5ed8b4181469",
   "metadata": {},
   "outputs": [
    {
     "data": {
      "text/html": [
       "<div>\n",
       "<style scoped>\n",
       "    .dataframe tbody tr th:only-of-type {\n",
       "        vertical-align: middle;\n",
       "    }\n",
       "\n",
       "    .dataframe tbody tr th {\n",
       "        vertical-align: top;\n",
       "    }\n",
       "\n",
       "    .dataframe thead th {\n",
       "        text-align: right;\n",
       "    }\n",
       "</style>\n",
       "<table border=\"1\" class=\"dataframe\">\n",
       "  <thead>\n",
       "    <tr style=\"text-align: right;\">\n",
       "      <th></th>\n",
       "      <th>pos</th>\n",
       "      <th>label</th>\n",
       "    </tr>\n",
       "  </thead>\n",
       "  <tbody>\n",
       "    <tr>\n",
       "      <th>0</th>\n",
       "      <td>n-s---mn- n-s---mn- v3saia--- l-s---ma- n-s---...</td>\n",
       "      <td>t</td>\n",
       "    </tr>\n",
       "    <tr>\n",
       "      <th>1</th>\n",
       "      <td>n-s---fn- d-------- a-s---fn- a-s---fn- d-----...</td>\n",
       "      <td>t</td>\n",
       "    </tr>\n",
       "    <tr>\n",
       "      <th>2</th>\n",
       "      <td>l-p---na- d-------- r-------- p-p---ng- c-----...</td>\n",
       "      <td>t</td>\n",
       "    </tr>\n",
       "    <tr>\n",
       "      <th>3</th>\n",
       "      <td>v3spie--- d-------- l-s---fn- d-------- n-s---...</td>\n",
       "      <td>t</td>\n",
       "    </tr>\n",
       "    <tr>\n",
       "      <th>4</th>\n",
       "      <td>l-s---fg- d-------- n-s---fg- d-------- v-sppa...</td>\n",
       "      <td>t</td>\n",
       "    </tr>\n",
       "  </tbody>\n",
       "</table>\n",
       "</div>"
      ],
      "text/plain": [
       "                                                 pos label\n",
       "0  n-s---mn- n-s---mn- v3saia--- l-s---ma- n-s---...     t\n",
       "1  n-s---fn- d-------- a-s---fn- a-s---fn- d-----...     t\n",
       "2  l-p---na- d-------- r-------- p-p---ng- c-----...     t\n",
       "3  v3spie--- d-------- l-s---fn- d-------- n-s---...     t\n",
       "4  l-s---fg- d-------- n-s---fg- d-------- v-sppa...     t"
      ]
     },
     "execution_count": 4,
     "metadata": {},
     "output_type": "execute_result"
    }
   ],
   "source": [
    "df.head()"
   ]
  },
  {
   "cell_type": "code",
   "execution_count": 5,
   "id": "ca04a9ea-9321-415d-900f-ee8284cf348c",
   "metadata": {},
   "outputs": [
    {
     "name": "stdout",
     "output_type": "stream",
     "text": [
      "i    8415\n",
      "t     942\n",
      "Name: label, dtype: int64\n",
      "t    942\n",
      "i    926\n",
      "Name: label, dtype: int64\n"
     ]
    },
    {
     "data": {
      "text/html": [
       "<div>\n",
       "<style scoped>\n",
       "    .dataframe tbody tr th:only-of-type {\n",
       "        vertical-align: middle;\n",
       "    }\n",
       "\n",
       "    .dataframe tbody tr th {\n",
       "        vertical-align: top;\n",
       "    }\n",
       "\n",
       "    .dataframe thead th {\n",
       "        text-align: right;\n",
       "    }\n",
       "</style>\n",
       "<table border=\"1\" class=\"dataframe\">\n",
       "  <thead>\n",
       "    <tr style=\"text-align: right;\">\n",
       "      <th></th>\n",
       "      <th>pos</th>\n",
       "      <th>label</th>\n",
       "    </tr>\n",
       "  </thead>\n",
       "  <tbody>\n",
       "    <tr>\n",
       "      <th>111</th>\n",
       "      <td>l-p---na- d-------- d-------- a-p---na- a-p---...</td>\n",
       "      <td>t</td>\n",
       "    </tr>\n",
       "    <tr>\n",
       "      <th>3391</th>\n",
       "      <td>d-------- r-------- n-p---fd- n-s---nn- u-----...</td>\n",
       "      <td>i</td>\n",
       "    </tr>\n",
       "    <tr>\n",
       "      <th>7664</th>\n",
       "      <td>d-------- g-------- d-------- n-s---na- n-s---...</td>\n",
       "      <td>i</td>\n",
       "    </tr>\n",
       "    <tr>\n",
       "      <th>474</th>\n",
       "      <td>v--pne--- d-------- p-p---md- d-------- v3spsa...</td>\n",
       "      <td>t</td>\n",
       "    </tr>\n",
       "    <tr>\n",
       "      <th>386</th>\n",
       "      <td>a-s---fd- d-------- p-p---na- l-p---mn- n-p---...</td>\n",
       "      <td>t</td>\n",
       "    </tr>\n",
       "  </tbody>\n",
       "</table>\n",
       "</div>"
      ],
      "text/plain": [
       "                                                    pos label\n",
       "111   l-p---na- d-------- d-------- a-p---na- a-p---...     t\n",
       "3391  d-------- r-------- n-p---fd- n-s---nn- u-----...     i\n",
       "7664  d-------- g-------- d-------- n-s---na- n-s---...     i\n",
       "474   v--pne--- d-------- p-p---md- d-------- v3spsa...     t\n",
       "386   a-s---fd- d-------- p-p---na- l-p---mn- n-p---...     t"
      ]
     },
     "execution_count": 5,
     "metadata": {},
     "output_type": "execute_result"
    }
   ],
   "source": [
    "print(df.label.value_counts())\n",
    "df = df.drop(df.query(\"label == 'i'\").sample(frac=.89).index)\n",
    "print(df.label.value_counts())\n",
    "\n",
    "df_ordered = df.copy(deep=True)\n",
    "df = shuffle(df, random_state=750)\n",
    "\n",
    "pos = df.pos.tolist()\n",
    "pos_ordered = df_ordered.pos.tolist()\n",
    "labels = df.label.tolist()\n",
    "\n",
    "y = labels\n",
    "\n",
    "df.head()"
   ]
  },
  {
   "cell_type": "code",
   "execution_count": 6,
   "id": "abebeed1-84a7-45b3-8031-73e12aac7fe1",
   "metadata": {},
   "outputs": [],
   "source": [
    "vectorizer = TfidfVectorizer(ngram_range=(0, 9), analyzer='char')\n",
    "posv = vectorizer.fit_transform(pos)\n",
    "posv = posv.toarray()\n",
    "x = posv"
   ]
  },
  {
   "cell_type": "code",
   "execution_count": 7,
   "id": "6f921f9d-f041-407c-999f-db75a41689b0",
   "metadata": {},
   "outputs": [],
   "source": [
    "vectorizer = TfidfVectorizer(ngram_range=(0, 9), analyzer='char')\n",
    "posv = vectorizer.fit_transform(pos_ordered)\n",
    "posv = posv.toarray()\n",
    "x_ordered = posv"
   ]
  },
  {
   "cell_type": "code",
   "execution_count": 8,
   "id": "14cbd41b-f707-4cfd-9726-66f2a95f5858",
   "metadata": {},
   "outputs": [],
   "source": [
    "x_train, x_test, y_train, y_test = train_test_split(x, y, test_size=0.2, random_state=750)"
   ]
  },
  {
   "cell_type": "code",
   "execution_count": 9,
   "id": "00bca820-4869-42c7-9b23-776c3c99bae9",
   "metadata": {},
   "outputs": [
    {
     "name": "stdout",
     "output_type": "stream",
     "text": [
      "Accuracy: 0.979\n"
     ]
    }
   ],
   "source": [
    "model = ensemble.RandomForestClassifier(n_estimators=500, random_state=750, n_jobs=-1)\n",
    "model.fit(x_train, y_train)\n",
    "y_pred = model.predict(x_test)\n",
    "print('Accuracy: %.3f' % accuracy_score(y_test, y_pred))"
   ]
  },
  {
   "cell_type": "code",
   "execution_count": 10,
   "id": "965c1b4e-5d8b-4677-8d9c-bed083a483b9",
   "metadata": {},
   "outputs": [
    {
     "data": {
      "image/png": "[encoded data removed]",
      "text/plain": [
       "<Figure size 432x432 with 2 Axes>"
      ]
     },
     "metadata": {
      "needs_background": "light"
     },
     "output_type": "display_data"
    }
   ],
   "source": [
    "cnf_matrix = confusion_matrix(y_test, y_pred)\n",
    "plt.figure(figsize=(6,6))\n",
    "plot_confusion_matrix(cnf_matrix, classes=df.label.unique(), title=\"Thucydides Ilidad CM\")\n",
    "plt.show()"
   ]
  },
  {
   "cell_type": "code",
   "execution_count": 11,
   "id": "9b1df4a8-16fc-470f-889a-d1e578deb63e",
   "metadata": {},
   "outputs": [],
   "source": [
    "preds = model.predict(x_ordered)"
   ]
  },
  {
   "cell_type": "code",
   "execution_count": 12,
   "id": "be36446f-421f-47f5-a3ee-09c2ac0f39df",
   "metadata": {},
   "outputs": [
    {
     "data": {
      "image/png": "[encoded data removed]",
      "text/plain": [
       "<Figure size 432x288 with 1 Axes>"
      ]
     },
     "metadata": {
      "needs_background": "light"
     },
     "output_type": "display_data"
    }
   ],
   "source": [
    "thucydides = []\n",
    "iliad = []\n",
    "for i, author in enumerate(preds):\n",
    "    if author == 't':\n",
    "        thucydides.append(i)\n",
    "    else:\n",
    "        iliad.append(i)\n",
    "\n",
    "plt.hist(\n",
    "    [thucydides, iliad],\n",
    "    bins=50,\n",
    "    color=['Blue', 'Orange'], \n",
    "    label=['Thucydides', 'Iliad'],\n",
    ")\n",
    "plt.ylim(0, 6)\n",
    "plt.xlabel('Index')\n",
    "plt.legend()\n",
    "plt.tight_layout()\n",
    "plt.show()"
   ]
  },
  {
   "cell_type": "code",
   "execution_count": null,
   "id": "ba7b1312-6225-4ff9-b713-63c78a439097",
   "metadata": {},
   "outputs": [],
   "source": []
  }
 ],
 "metadata": {
  "kernelspec": {
   "display_name": "Python 3",
   "language": "python",
   "name": "python3"
  },
  "language_info": {
   "codemirror_mode": {
    "name": "ipython",
    "version": 3
   },
   "file_extension": ".py",
   "mimetype": "text/x-python",
   "name": "python",
   "nbconvert_exporter": "python",
   "pygments_lexer": "ipython3",
   "version": "3.8.10"
  }
 },
 "nbformat": 4,
 "nbformat_minor": 5
}
